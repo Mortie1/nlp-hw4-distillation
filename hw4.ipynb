{
 "cells": [
  {
   "cell_type": "markdown",
   "id": "aa6c9d7e-8f48-41e9-94ab-5c3b1b717694",
   "metadata": {},
   "source": [
    "# Глубинное обучение для текстовых данных, ФКН ВШЭ\n",
    "## Домашнее задание 4: Уменьшение размеров модели\n",
    "### Оценивание и штрафы\n",
    "\n",
    "Максимально допустимая оценка за работу — __10 баллов__.\n",
    "\n",
    "Задание выполняется самостоятельно. «Похожие» решения считаются плагиатом и все задействованные студенты (в том числе те, у кого списали) не могут получить за него больше 0 баллов. Весь код должен быть написан самостоятельно. Чужим кодом для пользоваться запрещается даже с указанием ссылки на источник. В разумных рамках, конечно. Взять пару очевидных строчек кода для реализации какого-то небольшого функционала можно.\n",
    "\n",
    "Неэффективная реализация кода может негативно отразиться на оценке. Также оценка может быть снижена за плохо читаемый код и плохо оформленные графики. Все ответы должны сопровождаться кодом или комментариями о том, как они были получены.\n",
    "\n",
    "__Мягкий дедлайн 29.11.24 23:59__ \\\n",
    "__Жесткий дедлайн 2.12.24 23:59__\n",
    "\n",
    "### О задании\n",
    "\n",
    "В этом задании вам предстоит научиться решать задачу Named Entity Recognition (NER) на самом популярном датасете – [CoNLL-2003](https://paperswithcode.com/dataset/conll-2003). В вашем распоряжении будет предобученный BERT, который вам необходимо уменьшить с минимальными потерями в качестве до размера 20М параметров. Для этого вы самостоятельно реализуете факторизацию эмбеддингов, дистилляцию, шеринг параметров и так далее.\n",
    "\n",
    "В этом задании вам придется проводить довольно много экспериментов, поэтому мы рекомендуем не писать весь код в тетрадке, а завести разные файлы для отдельных логических блоков и скомпоновать все в виде проекта. Это позволит вашему ноутбуку не разрастаться и сильно облегчит задачу и вам, и проверяющим. Так же постарайтесь логгировать все ваши эксперименты в wandb, чтобы ничего не потерялось.\n",
    "\n",
    "### Оценивание\n",
    "Оценка за это домашнее задание будет формироваться из оценки за __задания__ и за __отчет__, в котором, как и раньше, от вас требуется написать о проделанной работе. За отчет можно получить до 2-х баллов, однако в случае отсутствия отчета можно потерять баллы за сами задания. Задания делятся на две части: _номерные_ и _на выбор_. За _номерные_ можно получить в сумме 6 баллов, за задания _на выбор_ можно получить до 16. То есть за все дз можно получить 24 балла. Все, что вы наберете свыше 10, будет считаться бонусами.\n",
    "\n",
    "\n",
    "### О датасете\n",
    "\n",
    "Named Entity Recognition – это задача классификации токенов по классам сущностей. В CoNLL-2003 для именования сущностей используется маркировка **BIO** (Beggining, Inside, Outside), в которой метки означают следующее:\n",
    "\n",
    "- *B-{метка}* – начало сущности *{метка}*\n",
    "- *I-{метка}* – продолжнение сущности *{метка}*\n",
    "- *O* – не сущность\n",
    "\n",
    "Существуют так же и другие способы маркировки, например, BILUO. Почитать о них можно [тут](https://en.wikipedia.org/wiki/Inside–outside–beginning_(tagging)) и [тут](https://www.youtube.com/watch?v=dQw4w9WgXcQ).\n",
    "\n",
    "Всего в датасете есть 9 разных меток.\n",
    "- O – слову не соответствует ни одна сущность.\n",
    "- B-PER/I-PER – слово или набор слов соответстует определенному _человеку_.\n",
    "- B-ORG/I-ORG – слово или набор слов соответстует определенной _организации_.\n",
    "- B-LOC/I-LOC – слово или набор слов соответстует определенной _локации_.\n",
    "- B-MISC/I-MISC – слово или набор слов соответстует сущности, которая не относится ни к одной из предыдущих. Например, национальность, произведение искусства, мероприятие и т.д.\n",
    "\n",
    "Приступим!"
   ]
  },
  {
   "cell_type": "markdown",
   "id": "6fe56a70-a72d-40a0-9ae3-395ec6460657",
   "metadata": {},
   "source": [
    "Начнем с загрузки и предобработки датасета."
   ]
  },
  {
   "cell_type": "code",
   "execution_count": 1,
   "id": "518cd82a",
   "metadata": {},
   "outputs": [],
   "source": [
    "%load_ext autoreload\n",
    "%autoreload 2"
   ]
  },
  {
   "cell_type": "code",
   "execution_count": 2,
   "id": "3ef87648-86ab-4f81-9db3-5cb7f54c575d",
   "metadata": {},
   "outputs": [
    {
     "data": {
      "text/plain": [
       "DatasetDict({\n",
       "    train: Dataset({\n",
       "        features: ['tokens', 'ner_tags'],\n",
       "        num_rows: 14041\n",
       "    })\n",
       "    validation: Dataset({\n",
       "        features: ['tokens', 'ner_tags'],\n",
       "        num_rows: 3250\n",
       "    })\n",
       "    test: Dataset({\n",
       "        features: ['tokens', 'ner_tags'],\n",
       "        num_rows: 3453\n",
       "    })\n",
       "})"
      ]
     },
     "execution_count": 2,
     "metadata": {},
     "output_type": "execute_result"
    }
   ],
   "source": [
    "from datasets import load_dataset\n",
    "\n",
    "dataset = load_dataset(\"eriktks/conll2003\", trust_remote_code=True)\n",
    "\n",
    "dataset = dataset.remove_columns([\"id\", \"pos_tags\", \"chunk_tags\"])\n",
    "dataset"
   ]
  },
  {
   "cell_type": "code",
   "execution_count": null,
   "id": "a7c1a5b0-6ca1-4159-9ce6-cff88aca6b96",
   "metadata": {},
   "outputs": [
    {
     "data": {
      "text/plain": [
       "{'tokens': ['EU',\n",
       "  'rejects',\n",
       "  'German',\n",
       "  'call',\n",
       "  'to',\n",
       "  'boycott',\n",
       "  'British',\n",
       "  'lamb',\n",
       "  '.'],\n",
       " 'ner_tags': [3, 0, 7, 0, 0, 0, 7, 0, 0]}"
      ]
     },
     "execution_count": 3,
     "metadata": {},
     "output_type": "execute_result"
    }
   ],
   "source": [
    "dataset[\"train\"][0]"
   ]
  },
  {
   "cell_type": "code",
   "execution_count": 17,
   "id": "04b0e34d-edca-40bc-83ac-cff0c2872f87",
   "metadata": {},
   "outputs": [],
   "source": [
    "label_names = [\n",
    "    \"O\",\n",
    "    \"B-PER\",\n",
    "    \"I-PER\",\n",
    "    \"B-ORG\",\n",
    "    \"I-ORG\",\n",
    "    \"B-LOC\",\n",
    "    \"I-LOC\",\n",
    "    \"B-MISC\",\n",
    "    \"I-MISC\",\n",
    "]"
   ]
  },
  {
   "cell_type": "code",
   "execution_count": null,
   "id": "958cdff9-6ea1-4f7f-808b-dbe5620c27e7",
   "metadata": {},
   "outputs": [
    {
     "name": "stdout",
     "output_type": "stream",
     "text": [
      "EU\tB-ORG\n",
      "rejects\tO\n",
      "German\tB-MISC\n",
      "call\tO\n",
      "to\tO\n",
      "boycott\tO\n",
      "British\tB-MISC\n",
      "lamb\tO\n",
      ".\tO\n"
     ]
    }
   ],
   "source": [
    "words = dataset[\"train\"][0][\"tokens\"]\n",
    "labels = dataset[\"train\"][0][\"ner_tags\"]\n",
    "\n",
    "for i in range(len(words)):\n",
    "    print(f\"{words[i]}\\t{label_names[labels[i]]}\")"
   ]
  },
  {
   "cell_type": "markdown",
   "id": "9ef2312e-1335-4afa-a6e6-3cdde8515fe5",
   "metadata": {},
   "source": [
    "### Предобработка\n",
    "\n",
    "На протяжении всего домашнего задания мы будем использовать _cased_ версию BERT, то есть токенизатор будет учитывать регистр слов. Для задачи NER регистр важен, так как имена и названия организаций или предметов искусства часто пишутся с большой буквы, и будет глупо прятать от модели такую информацию."
   ]
  },
  {
   "cell_type": "code",
   "execution_count": 6,
   "id": "05edcd4e-5360-41a8-b403-a9084d6a3a4a",
   "metadata": {},
   "outputs": [],
   "source": [
    "from transformers import AutoTokenizer, BatchEncoding\n",
    "\n",
    "tokenizer = AutoTokenizer.from_pretrained(\"bert-base-cased\")"
   ]
  },
  {
   "cell_type": "markdown",
   "id": "09f64076-829a-49f1-af58-6fe60c66f965",
   "metadata": {},
   "source": [
    "При токенизации слова могут разделиться на несколько токенов (как слово `Fischler` из примера ниже), из-за чего появится несоответствие между числом токенов и меток. Это несоответствие нам придется устранить вручную."
   ]
  },
  {
   "cell_type": "code",
   "execution_count": null,
   "id": "3ebc8789-0bba-4c96-aa1a-84403c93260e",
   "metadata": {},
   "outputs": [
    {
     "name": "stdout",
     "output_type": "stream",
     "text": [
      "Слова:  ['Only', 'France', 'and', 'Britain', 'backed', 'Fischler', \"'s\", 'proposal', '.']\n",
      "Токены: ['[CLS]', 'Only', 'France', 'and', 'Britain', 'backed', 'Fi', '##sch', '##ler', \"'\", 's', 'proposal', '.', '[SEP]']\n",
      "Метки: ['O', 'B-LOC', 'O', 'B-LOC', 'O', 'B-PER', 'O', 'O', 'O']\n"
     ]
    }
   ],
   "source": [
    "example = dataset[\"train\"][12]\n",
    "words = example[\"tokens\"]\n",
    "tags = [label_names[t] for t in example[\"ner_tags\"]]\n",
    "tokenized_text = tokenizer(example[\"tokens\"], is_split_into_words=True)\n",
    "\n",
    "print(\"Слова: \", words)\n",
    "print(\"Токены:\", tokenized_text.tokens())\n",
    "print(\"Метки:\", tags)"
   ]
  },
  {
   "cell_type": "markdown",
   "id": "34949bff-d7e9-47b3-aea7-82f1332a899c",
   "metadata": {},
   "source": [
    "__Задание 1 (1 балл).__ Токенизируйте весь датасет и для каждого текста выравните токены с метками так, чтобы каждому токену соответствовала одна метка. При этом важно сохранить нотацию BIO. И не забудьте про специальные токены! Должно получиться что-то такое:"
   ]
  },
  {
   "cell_type": "code",
   "execution_count": 8,
   "id": "b8352b8f-f60a-4844-b428-9e866678dc64",
   "metadata": {},
   "outputs": [],
   "source": [
    "# aligned_labels = align_labels_with_tokens(example[\"ner_tags\"], tokenized_text)\n",
    "# tags = [label_names[t] if t > -1 else t for t in aligned_labels]\n",
    "# print(\"Выровненные метки:\", aligned_labels)\n",
    "# print(\"Выровненные названия меток:\", tags)"
   ]
  },
  {
   "cell_type": "code",
   "execution_count": null,
   "id": "93809cc7-4cde-4764-ab2d-6d9a76f879e2",
   "metadata": {},
   "outputs": [
    {
     "data": {
      "text/plain": [
       "(['[CLS]',\n",
       "  'Only',\n",
       "  'France',\n",
       "  'and',\n",
       "  'Britain',\n",
       "  'backed',\n",
       "  'Fi',\n",
       "  '##sch',\n",
       "  '##ler',\n",
       "  \"'\",\n",
       "  's',\n",
       "  'proposal',\n",
       "  '.',\n",
       "  '[SEP]'],\n",
       " [0, 5, 0, 5, 0, 1, 0, 0, 0],\n",
       " [-100, 0, 5, 0, 5, 0, 1, 2, 2, 0, 0, 0, 0, -100])"
      ]
     },
     "execution_count": 9,
     "metadata": {},
     "output_type": "execute_result"
    }
   ],
   "source": [
    "def align_labels_with_tokens(\n",
    "    labels: list[int], tokenized_inputs: BatchEncoding, batch_index: int = 0\n",
    "):\n",
    "    result = [-100]\n",
    "    for i in range(1, len(tokenized_inputs.tokens(batch_index)[1:-1]) + 1):\n",
    "        cur_token_word = tokenized_inputs.token_to_word(batch_index, i)\n",
    "        prev_token_word = tokenized_inputs.token_to_word(batch_index, i - 1)\n",
    "        if cur_token_word == prev_token_word:\n",
    "            if label_names[labels[cur_token_word]][0] == \"B\":\n",
    "                result.append(labels[cur_token_word] + 1)\n",
    "            else:\n",
    "                result.append(labels[cur_token_word])\n",
    "        else:\n",
    "            result.append(labels[cur_token_word])\n",
    "    result.append(-100)\n",
    "    return result\n",
    "\n",
    "\n",
    "tokenized_text.tokens(0), example[\"ner_tags\"], align_labels_with_tokens(\n",
    "    example[\"ner_tags\"], tokenized_text\n",
    ")"
   ]
  },
  {
   "cell_type": "code",
   "execution_count": 10,
   "id": "f8701c0f",
   "metadata": {},
   "outputs": [
    {
     "name": "stdout",
     "output_type": "stream",
     "text": [
      "Выровненные метки: [-100, 0, 5, 0, 5, 0, 1, 2, 2, 0, 0, 0, 0, -100]\n",
      "Выровненные названия меток: [-100, 'O', 'B-LOC', 'O', 'B-LOC', 'O', 'B-PER', 'I-PER', 'I-PER', 'O', 'O', 'O', 'O', -100]\n"
     ]
    }
   ],
   "source": [
    "aligned_labels = align_labels_with_tokens(example[\"ner_tags\"], tokenized_text)\n",
    "tags = [label_names[t] if t > -1 else t for t in aligned_labels]\n",
    "print(\"Выровненные метки:\", aligned_labels)\n",
    "print(\"Выровненные названия меток:\", tags)"
   ]
  },
  {
   "cell_type": "code",
   "execution_count": null,
   "id": "7f113bf8",
   "metadata": {},
   "outputs": [],
   "source": [
    "from tqdm import tqdm\n",
    "\n",
    "\n",
    "def tokenize_and_align_labels(examples):\n",
    "    tokenized_inputs = tokenizer(\n",
    "        examples[\"tokens\"], truncation=True, is_split_into_words=True\n",
    "    )\n",
    "\n",
    "    labels = []\n",
    "    for i, label in enumerate(examples[f\"ner_tags\"]):\n",
    "        my_label_ids = align_labels_with_tokens(label, tokenized_inputs, i)\n",
    "        labels.append(my_label_ids)\n",
    "\n",
    "    tokenized_inputs[\"labels\"] = labels\n",
    "    return tokenized_inputs\n",
    "\n",
    "\n",
    "tokenized_dataset_train = dataset[\"train\"].map(tokenize_and_align_labels, batched=True)\n",
    "tokenized_dataset_val = dataset[\"validation\"].map(\n",
    "    tokenize_and_align_labels, batched=True\n",
    ")\n",
    "tokenized_dataset_test = dataset[\"test\"].map(tokenize_and_align_labels, batched=True)"
   ]
  },
  {
   "cell_type": "markdown",
   "id": "354e9399-8393-4312-88aa-53b727d9df7d",
   "metadata": {},
   "source": [
    "### Метрика\n",
    "\n",
    "Для оценки качества NER обычно используют F1 меру с микро-усреднением. Мы загрузим ее из библиотеки `seqeval`. Функция `f1_score` принимает два 2d списка с правильными и предсказанными метками, записаными текстом, и возвращает для них значение F1. Вы можете использовать ее с параметрами по умолчанию."
   ]
  },
  {
   "cell_type": "code",
   "execution_count": 12,
   "id": "a3df54ab-c65b-40e0-b479-25d6f29e5f4e",
   "metadata": {},
   "outputs": [],
   "source": [
    "# ! pip install seqeval"
   ]
  },
  {
   "cell_type": "code",
   "execution_count": 11,
   "id": "380833ce-1b8e-4b00-90ee-9126df16c19e",
   "metadata": {},
   "outputs": [],
   "source": [
    "from src import f1, label2id, id2label"
   ]
  },
  {
   "cell_type": "markdown",
   "id": "bc901ecf-2de9-4c3f-862c-cf78871d8d9f",
   "metadata": {},
   "source": [
    "Особенность подсчета F1 для NER заключается в том, что в некоторых ситуациях неправильные ответы могут засчитываться как правильные. Например, если модель предсказала `['I-PER', 'I-PER']`, то мы можем догадаться, что на самом деле должно быть `['B-PER', 'I-PER']`, так как сущность не может начинаться с `I-`. Функция `f1_score` учитывает это и поэтому работает только с текстовыми представлениями меток."
   ]
  },
  {
   "cell_type": "markdown",
   "id": "a61400bf-712a-4dfb-a08f-326c5db10eb2",
   "metadata": {},
   "source": [
    "### Модель\n",
    "\n",
    "В качестве базовой модели мы возьмем `bert-base-cased`. Как вы понимаете, он не обучался на задачу NER. Поэтому прежде чем приступать к уменьшению размера BERT, его необходимо дообучить.\n",
    "\n",
    "__Задание 2 (1 балл)__ Дообучите `bert-base-cased` на нашем датасете с помощью обычного fine-tuning. У вас должно получиться хотя бы 0.9 F1 на тестовой выборке. Заметьте, что чем выше качество большой модели, тем лучше будет работать дистиллированный ученик. Для обучения можно использовать `Trainer` из Hugging Face."
   ]
  },
  {
   "cell_type": "code",
   "execution_count": null,
   "id": "14235f7c-d7a3-4407-98fe-be35bec84008",
   "metadata": {},
   "outputs": [
    {
     "name": "stderr",
     "output_type": "stream",
     "text": [
      "Some weights of BertForTokenClassification were not initialized from the model checkpoint at bert-base-cased and are newly initialized: ['classifier.bias', 'classifier.weight']\n",
      "You should probably TRAIN this model on a down-stream task to be able to use it for predictions and inference.\n"
     ]
    },
    {
     "name": "stdout",
     "output_type": "stream",
     "text": [
      "Число параметров: 107726601\n"
     ]
    }
   ],
   "source": [
    "from transformers import AutoModelForTokenClassification\n",
    "\n",
    "model = AutoModelForTokenClassification.from_pretrained(\n",
    "    \"bert-base-cased\", num_labels=len(label_names), id2label=id2label, label2id=label2id\n",
    ")\n",
    "print(\"Число параметров:\", sum(p.numel() for p in model.parameters()))"
   ]
  },
  {
   "cell_type": "code",
   "execution_count": 36,
   "id": "9ae197eb-041a-4cdb-864d-69b9cf099be9",
   "metadata": {},
   "outputs": [
    {
     "name": "stderr",
     "output_type": "stream",
     "text": [
      "comet_ml is installed but the Comet API Key is not configured. Please set the `COMET_API_KEY` environment variable to enable Comet logging. Check out the documentation for other ways of configuring it: https://www.comet.com/docs/v2/guides/experiment-management/configure-sdk/#set-the-api-key\n"
     ]
    },
    {
     "data": {
      "text/html": [
       "\n",
       "    <div>\n",
       "      \n",
       "      <progress value='3512' max='3512' style='width:300px; height:20px; vertical-align: middle;'></progress>\n",
       "      [3512/3512 07:58, Epoch 8/8]\n",
       "    </div>\n",
       "    <table border=\"1\" class=\"dataframe\">\n",
       "  <thead>\n",
       " <tr style=\"text-align: left;\">\n",
       "      <th>Epoch</th>\n",
       "      <th>Training Loss</th>\n",
       "      <th>Validation Loss</th>\n",
       "      <th>F1</th>\n",
       "    </tr>\n",
       "  </thead>\n",
       "  <tbody>\n",
       "    <tr>\n",
       "      <td>1</td>\n",
       "      <td>0.076800</td>\n",
       "      <td>0.071734</td>\n",
       "      <td>0.905218</td>\n",
       "    </tr>\n",
       "    <tr>\n",
       "      <td>2</td>\n",
       "      <td>0.045300</td>\n",
       "      <td>0.072461</td>\n",
       "      <td>0.922157</td>\n",
       "    </tr>\n",
       "    <tr>\n",
       "      <td>3</td>\n",
       "      <td>0.026400</td>\n",
       "      <td>0.059304</td>\n",
       "      <td>0.927137</td>\n",
       "    </tr>\n",
       "    <tr>\n",
       "      <td>4</td>\n",
       "      <td>0.012700</td>\n",
       "      <td>0.065456</td>\n",
       "      <td>0.936825</td>\n",
       "    </tr>\n",
       "    <tr>\n",
       "      <td>5</td>\n",
       "      <td>0.005500</td>\n",
       "      <td>0.069959</td>\n",
       "      <td>0.939472</td>\n",
       "    </tr>\n",
       "    <tr>\n",
       "      <td>6</td>\n",
       "      <td>0.003800</td>\n",
       "      <td>0.075719</td>\n",
       "      <td>0.937864</td>\n",
       "    </tr>\n",
       "    <tr>\n",
       "      <td>7</td>\n",
       "      <td>0.001800</td>\n",
       "      <td>0.079177</td>\n",
       "      <td>0.939755</td>\n",
       "    </tr>\n",
       "    <tr>\n",
       "      <td>8</td>\n",
       "      <td>0.001600</td>\n",
       "      <td>0.079302</td>\n",
       "      <td>0.939412</td>\n",
       "    </tr>\n",
       "  </tbody>\n",
       "</table><p>"
      ],
      "text/plain": [
       "<IPython.core.display.HTML object>"
      ]
     },
     "metadata": {},
     "output_type": "display_data"
    },
    {
     "data": {
      "text/plain": [
       "TrainOutput(global_step=3512, training_loss=0.05353578866872054, metrics={'train_runtime': 478.9242, 'train_samples_per_second': 234.542, 'train_steps_per_second': 7.333, 'total_flos': 3113344249179606.0, 'train_loss': 0.05353578866872054, 'epoch': 8.0})"
      ]
     },
     "execution_count": 36,
     "metadata": {},
     "output_type": "execute_result"
    }
   ],
   "source": [
    "from transformers import Trainer, TrainingArguments, DataCollatorForTokenClassification\n",
    "from accelerate import Accelerator\n",
    "\n",
    "# accelerator = Accelerator(cpu=True)\n",
    "data_collator = DataCollatorForTokenClassification(tokenizer=tokenizer)\n",
    "\n",
    "args = TrainingArguments(\n",
    "    gradient_accumulation_steps=1,\n",
    "    auto_find_batch_size=False,\n",
    "    per_device_train_batch_size=32,\n",
    "    per_device_eval_batch_size=128,\n",
    "    torch_compile=False,\n",
    "    learning_rate=5e-5,\n",
    "    num_train_epochs=8,\n",
    "    lr_scheduler_type=\"cosine\",\n",
    "    eval_strategy=\"epoch\",\n",
    "    save_strategy=\"epoch\",\n",
    "    logging_steps=50,\n",
    "    logging_first_step=True,\n",
    "    warmup_steps=200,\n",
    "    weight_decay=0.5,\n",
    "    bf16=True,\n",
    "    output_dir=\"./results_new\",\n",
    "    max_grad_norm=5,\n",
    "    metric_for_best_model=\"f1\",\n",
    "    load_best_model_at_end=True,\n",
    ")\n",
    "\n",
    "trainer = Trainer(\n",
    "    model=model,\n",
    "    args=args,\n",
    "    data_collator=data_collator,\n",
    "    train_dataset=tokenized_dataset_train,\n",
    "    eval_dataset=tokenized_dataset_val,\n",
    "    compute_metrics=f1,\n",
    ")\n",
    "\n",
    "trainer.train()"
   ]
  },
  {
   "cell_type": "code",
   "execution_count": 38,
   "id": "9aae6e37",
   "metadata": {},
   "outputs": [
    {
     "data": {
      "text/plain": [
       "{'eval_loss': 0.1901179999113083,\n",
       " 'eval_f1': 0.9012883008356546,\n",
       " 'eval_runtime': 3.5735,\n",
       " 'eval_samples_per_second': 966.286,\n",
       " 'eval_steps_per_second': 7.556,\n",
       " 'epoch': 8.0}"
      ]
     },
     "execution_count": 38,
     "metadata": {},
     "output_type": "execute_result"
    }
   ],
   "source": [
    "trainer.evaluate(eval_dataset=tokenized_dataset_test)"
   ]
  },
  {
   "cell_type": "code",
   "execution_count": null,
   "id": "8124a4e5",
   "metadata": {},
   "outputs": [],
   "source": [
    "# import gc\n",
    "# import torch\n",
    "\n",
    "# model = None\n",
    "# trainer = None\n",
    "# args = None\n",
    "# gc.collect()\n",
    "# torch.cuda.empty_cache()"
   ]
  },
  {
   "cell_type": "markdown",
   "id": "c3cda5a7-7fb9-43bc-84e3-e66ec6a48d91",
   "metadata": {},
   "source": [
    "### Факторизация матрицы эмбеддингов\n",
    "\n",
    "Можно заметить, что на данный момент матрица эмбеддингов занимает $V \\cdot H = 28996 \\cdot 768 = 22.268.928$ параметров. Это aж пятая часть от всей модели! Давайте попробуем что-то с этим сделать. В модели [ALBERT](https://arxiv.org/pdf/1909.11942.pdf) предлагается факторизовать матрицу эмбеддингов в произведение двух небольших матриц. Таким образом, параметры эмбеддингов будут содержать $V \\cdot E + E \\cdot H$ элементов, что гораздо меньше $V \\cdot H$, если $H \\gg E$. Авторы выбирают $E = 128$, однако ничего не мешает нам взять любое другое значение. Например, выбрав $H = 64$, мы уменьшим число параметров примерно на 20М.\n",
    "\n",
    "__Задание 3 (1 балл).__ Напишите класс-обертку над слоем эмбеддингов, который реализует факторизацию на две матрицы, и дообучите факторизованную модель. Заметьте, обе матрицы можно инициализировать с помощью SVD разложения, чтобы начальное приближение было хорошим. Это сэкономит очень много времени на дообучении. С рангом разложения $H = 64$ у вас должно получиться F1 больше 0.87."
   ]
  },
  {
   "cell_type": "code",
   "execution_count": null,
   "id": "e901044a",
   "metadata": {},
   "outputs": [
    {
     "name": "stdout",
     "output_type": "stream",
     "text": [
      "Число параметров: 87362569\n"
     ]
    }
   ],
   "source": [
    "from src import FactorizedEmbeddings\n",
    "\n",
    "factorized_model = AutoModelForTokenClassification.from_pretrained(\n",
    "    \"./results/checkpoint-3512\",\n",
    "    num_labels=len(label_names),\n",
    "    id2label=id2label,\n",
    "    label2id=label2id,\n",
    ")\n",
    "factorized_model.bert.embeddings.word_embeddings = FactorizedEmbeddings(\n",
    "    factorized_model.bert.embeddings.word_embeddings.num_embeddings,\n",
    "    factorized_model.bert.embeddings.word_embeddings.embedding_dim,\n",
    "    factor=64,\n",
    "    pretrained_embeds=factorized_model.bert.embeddings.word_embeddings.weight.data,\n",
    ")\n",
    "print(\"Число параметров:\", sum(p.numel() for p in factorized_model.parameters()))"
   ]
  },
  {
   "cell_type": "code",
   "execution_count": 40,
   "id": "3472be6b",
   "metadata": {},
   "outputs": [
    {
     "name": "stderr",
     "output_type": "stream",
     "text": [
      "comet_ml is installed but the Comet API Key is not configured. Please set the `COMET_API_KEY` environment variable to enable Comet logging. Check out the documentation for other ways of configuring it: https://www.comet.com/docs/v2/guides/experiment-management/configure-sdk/#set-the-api-key\n"
     ]
    },
    {
     "data": {
      "text/html": [
       "\n",
       "    <div>\n",
       "      \n",
       "      <progress value='3512' max='3512' style='width:300px; height:20px; vertical-align: middle;'></progress>\n",
       "      [3512/3512 09:43, Epoch 8/8]\n",
       "    </div>\n",
       "    <table border=\"1\" class=\"dataframe\">\n",
       "  <thead>\n",
       " <tr style=\"text-align: left;\">\n",
       "      <th>Epoch</th>\n",
       "      <th>Training Loss</th>\n",
       "      <th>Validation Loss</th>\n",
       "      <th>F1</th>\n",
       "    </tr>\n",
       "  </thead>\n",
       "  <tbody>\n",
       "    <tr>\n",
       "      <td>1</td>\n",
       "      <td>0.080300</td>\n",
       "      <td>0.107726</td>\n",
       "      <td>0.878154</td>\n",
       "    </tr>\n",
       "    <tr>\n",
       "      <td>2</td>\n",
       "      <td>0.051400</td>\n",
       "      <td>0.089759</td>\n",
       "      <td>0.909076</td>\n",
       "    </tr>\n",
       "    <tr>\n",
       "      <td>3</td>\n",
       "      <td>0.024800</td>\n",
       "      <td>0.092650</td>\n",
       "      <td>0.913833</td>\n",
       "    </tr>\n",
       "    <tr>\n",
       "      <td>4</td>\n",
       "      <td>0.014800</td>\n",
       "      <td>0.096394</td>\n",
       "      <td>0.914731</td>\n",
       "    </tr>\n",
       "    <tr>\n",
       "      <td>5</td>\n",
       "      <td>0.009700</td>\n",
       "      <td>0.098967</td>\n",
       "      <td>0.921107</td>\n",
       "    </tr>\n",
       "    <tr>\n",
       "      <td>6</td>\n",
       "      <td>0.006000</td>\n",
       "      <td>0.098698</td>\n",
       "      <td>0.921502</td>\n",
       "    </tr>\n",
       "    <tr>\n",
       "      <td>7</td>\n",
       "      <td>0.006500</td>\n",
       "      <td>0.100313</td>\n",
       "      <td>0.925199</td>\n",
       "    </tr>\n",
       "    <tr>\n",
       "      <td>8</td>\n",
       "      <td>0.004100</td>\n",
       "      <td>0.099999</td>\n",
       "      <td>0.927326</td>\n",
       "    </tr>\n",
       "  </tbody>\n",
       "</table><p>"
      ],
      "text/plain": [
       "<IPython.core.display.HTML object>"
      ]
     },
     "metadata": {},
     "output_type": "display_data"
    },
    {
     "data": {
      "text/plain": [
       "TrainOutput(global_step=3512, training_loss=0.039120385191002374, metrics={'train_runtime': 583.5714, 'train_samples_per_second': 192.484, 'train_steps_per_second': 6.018, 'total_flos': 3115143236267478.0, 'train_loss': 0.039120385191002374, 'epoch': 8.0})"
      ]
     },
     "execution_count": 40,
     "metadata": {},
     "output_type": "execute_result"
    }
   ],
   "source": [
    "data_collator = DataCollatorForTokenClassification(tokenizer=tokenizer)\n",
    "\n",
    "args = TrainingArguments(\n",
    "    gradient_accumulation_steps=1,\n",
    "    auto_find_batch_size=False,\n",
    "    per_device_train_batch_size=32,\n",
    "    torch_compile=False,\n",
    "    learning_rate=3e-5,\n",
    "    num_train_epochs=8,\n",
    "    eval_strategy=\"epoch\",\n",
    "    save_strategy=\"epoch\",\n",
    "    logging_steps=50,\n",
    "    logging_first_step=True,\n",
    "    warmup_steps=200,\n",
    "    weight_decay=0.1,\n",
    "    bf16=True,\n",
    "    output_dir=\"./factorized_model\",\n",
    "    max_grad_norm=5,\n",
    "    metric_for_best_model=\"f1\",\n",
    "    load_best_model_at_end=True,\n",
    ")\n",
    "\n",
    "trainer = Trainer(\n",
    "    model=factorized_model,\n",
    "    args=args,\n",
    "    data_collator=data_collator,\n",
    "    train_dataset=tokenized_dataset_train,\n",
    "    eval_dataset=tokenized_dataset_val,\n",
    "    compute_metrics=f1,\n",
    ")\n",
    "\n",
    "trainer.train()"
   ]
  },
  {
   "cell_type": "code",
   "execution_count": 41,
   "id": "c4743b85",
   "metadata": {},
   "outputs": [
    {
     "data": {
      "text/html": [
       "\n",
       "    <div>\n",
       "      \n",
       "      <progress value='432' max='432' style='width:300px; height:20px; vertical-align: middle;'></progress>\n",
       "      [432/432 00:12]\n",
       "    </div>\n",
       "    "
      ],
      "text/plain": [
       "<IPython.core.display.HTML object>"
      ]
     },
     "metadata": {},
     "output_type": "display_data"
    },
    {
     "data": {
      "text/plain": [
       "{'eval_loss': 0.24226897954940796,\n",
       " 'eval_f1': 0.8779044469584892,\n",
       " 'eval_runtime': 13.4892,\n",
       " 'eval_samples_per_second': 255.982,\n",
       " 'eval_steps_per_second': 32.026,\n",
       " 'epoch': 8.0}"
      ]
     },
     "execution_count": 41,
     "metadata": {},
     "output_type": "execute_result"
    }
   ],
   "source": [
    "trainer.evaluate(eval_dataset=tokenized_dataset_test)"
   ]
  },
  {
   "cell_type": "markdown",
   "id": "6220bd15-3681-4006-b7e0-44838b3500ad",
   "metadata": {},
   "source": [
    "### Дистилляция знаний\n",
    "\n",
    "Дистилляция знаний – это парадигма обучения, в которой знания модели-учителя дистиллируются в модель-ученика. Учеником может быть произвольная модель меньшего размера, решающая ту же задачу, однако обычно ученик имеет ту же архитектуру, что и учитель. При дистилляции используются два функционала ошибки:\n",
    "\n",
    "1. Стандартная кросс-энтропия.\n",
    "1. Функция, задающая расстояние между распределениями предсказаний учителя и ученика. Чаще всего используют KL-дивергенцию.\n",
    "\n",
    "Для того, чтобы распределение предсказаний учителя не было вырожденным, к softmax добавляют температуру больше 1, например, 2 или 5.   \n",
    "__Важно:__ при делении логитов на температуру значения градиентов уменьшаются в $\\tau^2$ раз (проверьте это!). Поэтому для возвращения их в изначальный масштаб ошибку надо домножить на $\\tau^2$. Подробнее об этом можно почитать в разделе 2.1 [оригинальной статьи](https://arxiv.org/pdf/1503.02531).\n",
    "\n",
    "<img src=\"https://intellabs.github.io/distiller/imgs/knowledge_distillation.png\" width=\"1000\">"
   ]
  },
  {
   "cell_type": "markdown",
   "id": "450e921f-279e-46ae-8c70-5d715b91106e",
   "metadata": {},
   "source": [
    "__Задание 4 (3 балла).__ Реализуйте метод дистилляции знаний, изображенный на картинке. Для подсчета ошибки между предсказаниями ученика и учителя используйте KL-дивергенцию [`nn.KLDivLoss(reduction=\"batchmean\")`](https://pytorch.org/docs/stable/generated/torch.nn.KLDivLoss.html) (обратите внимание на вормат ее входов). Для получения итоговой ошибки суммируйте мягкую ошибку с жесткой.   \n",
    "В качестве учителя используйте дообученный BERT из задания 2. В качестве ученика возьмите необученную модель с размером __не больше 20M__ параметров. Вы можете использовать факторизацию матрицы эмбеддингов для уменьшения числа параметров. Если вы все сделали правильно, то на тестовой выборке вы должны получить значение F1 не меньше 0.7. Вам должно хватить примерно 20к итераций обучения для этого. Если у вас что-то не получается, то можно ориентироваться на статью про [DistilBERT](https://arxiv.org/abs/1910.01108) и на [эту статью](https://www.researchgate.net/publication/375758425_Knowledge_Distillation_Scheme_for_Named_Entity_Recognition_Model_Based_on_BERT).\n",
    "\n",
    "__Важно:__\n",
    "* Не забывайте добавлять _warmup_ при обучении ученика.\n",
    "* Не забывайте переводить учителя в режим _eval_."
   ]
  },
  {
   "cell_type": "code",
   "execution_count": null,
   "id": "4b423fd4",
   "metadata": {},
   "outputs": [],
   "source": [
    "model = AutoModelForTokenClassification.from_pretrained(\n",
    "    \"./results_new/checkpoint-3512\",\n",
    "    num_labels=len(label_names),\n",
    "    id2label=id2label,\n",
    "    label2id=label2id,\n",
    ")"
   ]
  },
  {
   "cell_type": "code",
   "execution_count": 19,
   "id": "8f571ae8-27d8-4bf8-9e5b-fc5114ec2838",
   "metadata": {},
   "outputs": [],
   "source": [
    "from src import DistilTrainer"
   ]
  },
  {
   "cell_type": "code",
   "execution_count": null,
   "id": "06ef3273",
   "metadata": {},
   "outputs": [
    {
     "name": "stdout",
     "output_type": "stream",
     "text": [
      "Число параметров: 19667421\n"
     ]
    }
   ],
   "source": [
    "from transformers import (\n",
    "    BertConfig,\n",
    "    BertForTokenClassification,\n",
    "    Trainer,\n",
    "    TrainingArguments,\n",
    "    DataCollatorForTokenClassification,\n",
    ")\n",
    "\n",
    "config = BertConfig(\n",
    "    vocab_size=model.config.vocab_size,\n",
    "    hidden_size=306,\n",
    "    num_hidden_layers=9,\n",
    "    num_attention_heads=6,\n",
    "    intermediate_size=1312,\n",
    "    num_labels=len(label_names),\n",
    ")\n",
    "student_model = BertForTokenClassification(\n",
    "    config,  # num_labels=len(label_names), id2label=id2label, label2id=label2id\n",
    ")\n",
    "# student_model.bert.embeddings.word_embeddings = FactorizedEmbeddings(\n",
    "#     config.vocab_size,\n",
    "#     config.hidden_size,\n",
    "#     factor=354,\n",
    "#     pretrained_embeds=None # model.bert.embeddings.word_embeddings.weight,\n",
    "# )\n",
    "\n",
    "# student_model.classifier = nn.Linear(config.hidden_size, len(label_names))\n",
    "print(\"Число параметров:\", sum(p.numel() for p in student_model.parameters()))"
   ]
  },
  {
   "cell_type": "code",
   "execution_count": null,
   "id": "e47b6cc8",
   "metadata": {},
   "outputs": [
    {
     "name": "stderr",
     "output_type": "stream",
     "text": [
      "comet_ml is installed but the Comet API Key is not configured. Please set the `COMET_API_KEY` environment variable to enable Comet logging. Check out the documentation for other ways of configuring it: https://www.comet.com/docs/v2/guides/experiment-management/configure-sdk/#set-the-api-key\n",
      "max_steps is given, it will override any value given in num_train_epochs\n"
     ]
    },
    {
     "data": {
      "text/html": [
       "\n",
       "    <div>\n",
       "      \n",
       "      <progress value='15000' max='15000' style='width:300px; height:20px; vertical-align: middle;'></progress>\n",
       "      [15000/15000 36:10, Epoch 34/35]\n",
       "    </div>\n",
       "    <table border=\"1\" class=\"dataframe\">\n",
       "  <thead>\n",
       " <tr style=\"text-align: left;\">\n",
       "      <th>Epoch</th>\n",
       "      <th>Training Loss</th>\n",
       "      <th>Validation Loss</th>\n",
       "      <th>F1</th>\n",
       "    </tr>\n",
       "  </thead>\n",
       "  <tbody>\n",
       "    <tr>\n",
       "      <td>1</td>\n",
       "      <td>75.339500</td>\n",
       "      <td>88.820152</td>\n",
       "      <td>0.374151</td>\n",
       "    </tr>\n",
       "    <tr>\n",
       "      <td>2</td>\n",
       "      <td>47.287500</td>\n",
       "      <td>60.118763</td>\n",
       "      <td>0.523584</td>\n",
       "    </tr>\n",
       "    <tr>\n",
       "      <td>3</td>\n",
       "      <td>34.392100</td>\n",
       "      <td>52.367016</td>\n",
       "      <td>0.592548</td>\n",
       "    </tr>\n",
       "    <tr>\n",
       "      <td>4</td>\n",
       "      <td>25.526300</td>\n",
       "      <td>43.998981</td>\n",
       "      <td>0.671033</td>\n",
       "    </tr>\n",
       "    <tr>\n",
       "      <td>5</td>\n",
       "      <td>22.070700</td>\n",
       "      <td>42.231491</td>\n",
       "      <td>0.709986</td>\n",
       "    </tr>\n",
       "    <tr>\n",
       "      <td>6</td>\n",
       "      <td>19.228600</td>\n",
       "      <td>40.230412</td>\n",
       "      <td>0.704988</td>\n",
       "    </tr>\n",
       "    <tr>\n",
       "      <td>7</td>\n",
       "      <td>18.789500</td>\n",
       "      <td>39.654247</td>\n",
       "      <td>0.712349</td>\n",
       "    </tr>\n",
       "    <tr>\n",
       "      <td>8</td>\n",
       "      <td>13.600600</td>\n",
       "      <td>37.654114</td>\n",
       "      <td>0.743718</td>\n",
       "    </tr>\n",
       "    <tr>\n",
       "      <td>9</td>\n",
       "      <td>12.771600</td>\n",
       "      <td>38.105419</td>\n",
       "      <td>0.737823</td>\n",
       "    </tr>\n",
       "    <tr>\n",
       "      <td>10</td>\n",
       "      <td>9.683300</td>\n",
       "      <td>35.405483</td>\n",
       "      <td>0.756686</td>\n",
       "    </tr>\n",
       "    <tr>\n",
       "      <td>11</td>\n",
       "      <td>10.926400</td>\n",
       "      <td>34.483768</td>\n",
       "      <td>0.767717</td>\n",
       "    </tr>\n",
       "    <tr>\n",
       "      <td>12</td>\n",
       "      <td>9.174600</td>\n",
       "      <td>34.181568</td>\n",
       "      <td>0.775730</td>\n",
       "    </tr>\n",
       "    <tr>\n",
       "      <td>13</td>\n",
       "      <td>8.905900</td>\n",
       "      <td>34.723034</td>\n",
       "      <td>0.762260</td>\n",
       "    </tr>\n",
       "    <tr>\n",
       "      <td>14</td>\n",
       "      <td>8.743100</td>\n",
       "      <td>34.813831</td>\n",
       "      <td>0.769560</td>\n",
       "    </tr>\n",
       "    <tr>\n",
       "      <td>15</td>\n",
       "      <td>7.635600</td>\n",
       "      <td>33.384655</td>\n",
       "      <td>0.788141</td>\n",
       "    </tr>\n",
       "    <tr>\n",
       "      <td>16</td>\n",
       "      <td>6.380900</td>\n",
       "      <td>33.061398</td>\n",
       "      <td>0.775092</td>\n",
       "    </tr>\n",
       "    <tr>\n",
       "      <td>17</td>\n",
       "      <td>6.956900</td>\n",
       "      <td>32.149818</td>\n",
       "      <td>0.778409</td>\n",
       "    </tr>\n",
       "    <tr>\n",
       "      <td>18</td>\n",
       "      <td>5.162900</td>\n",
       "      <td>31.940125</td>\n",
       "      <td>0.784022</td>\n",
       "    </tr>\n",
       "    <tr>\n",
       "      <td>19</td>\n",
       "      <td>6.548400</td>\n",
       "      <td>31.251682</td>\n",
       "      <td>0.795903</td>\n",
       "    </tr>\n",
       "    <tr>\n",
       "      <td>20</td>\n",
       "      <td>4.722100</td>\n",
       "      <td>30.729147</td>\n",
       "      <td>0.793808</td>\n",
       "    </tr>\n",
       "    <tr>\n",
       "      <td>21</td>\n",
       "      <td>4.614700</td>\n",
       "      <td>29.673502</td>\n",
       "      <td>0.797489</td>\n",
       "    </tr>\n",
       "    <tr>\n",
       "      <td>22</td>\n",
       "      <td>4.194100</td>\n",
       "      <td>30.637724</td>\n",
       "      <td>0.793850</td>\n",
       "    </tr>\n",
       "    <tr>\n",
       "      <td>23</td>\n",
       "      <td>4.097200</td>\n",
       "      <td>29.489979</td>\n",
       "      <td>0.802920</td>\n",
       "    </tr>\n",
       "    <tr>\n",
       "      <td>24</td>\n",
       "      <td>3.563300</td>\n",
       "      <td>28.850494</td>\n",
       "      <td>0.800000</td>\n",
       "    </tr>\n",
       "    <tr>\n",
       "      <td>25</td>\n",
       "      <td>4.276400</td>\n",
       "      <td>29.315361</td>\n",
       "      <td>0.796772</td>\n",
       "    </tr>\n",
       "    <tr>\n",
       "      <td>26</td>\n",
       "      <td>2.941000</td>\n",
       "      <td>28.875788</td>\n",
       "      <td>0.806639</td>\n",
       "    </tr>\n",
       "    <tr>\n",
       "      <td>27</td>\n",
       "      <td>3.493400</td>\n",
       "      <td>28.705828</td>\n",
       "      <td>0.807740</td>\n",
       "    </tr>\n",
       "    <tr>\n",
       "      <td>28</td>\n",
       "      <td>2.847700</td>\n",
       "      <td>28.593740</td>\n",
       "      <td>0.805227</td>\n",
       "    </tr>\n",
       "    <tr>\n",
       "      <td>29</td>\n",
       "      <td>3.562000</td>\n",
       "      <td>28.505133</td>\n",
       "      <td>0.806502</td>\n",
       "    </tr>\n",
       "    <tr>\n",
       "      <td>30</td>\n",
       "      <td>3.304000</td>\n",
       "      <td>28.472313</td>\n",
       "      <td>0.805132</td>\n",
       "    </tr>\n",
       "    <tr>\n",
       "      <td>31</td>\n",
       "      <td>2.716800</td>\n",
       "      <td>28.344658</td>\n",
       "      <td>0.805765</td>\n",
       "    </tr>\n",
       "    <tr>\n",
       "      <td>32</td>\n",
       "      <td>2.869600</td>\n",
       "      <td>28.533163</td>\n",
       "      <td>0.804577</td>\n",
       "    </tr>\n",
       "    <tr>\n",
       "      <td>33</td>\n",
       "      <td>2.569900</td>\n",
       "      <td>28.424782</td>\n",
       "      <td>0.804900</td>\n",
       "    </tr>\n",
       "    <tr>\n",
       "      <td>34</td>\n",
       "      <td>2.706700</td>\n",
       "      <td>28.427366</td>\n",
       "      <td>0.805034</td>\n",
       "    </tr>\n",
       "  </tbody>\n",
       "</table><p>"
      ],
      "text/plain": [
       "<IPython.core.display.HTML object>"
      ]
     },
     "metadata": {},
     "output_type": "display_data"
    },
    {
     "data": {
      "text/plain": [
       "TrainOutput(global_step=15000, training_loss=14.03398786315918, metrics={'train_runtime': 2170.6218, 'train_samples_per_second': 221.135, 'train_steps_per_second': 6.91, 'total_flos': 1663835374662300.0, 'train_loss': 14.03398786315918, 'epoch': 34.16856492027335})"
      ]
     },
     "execution_count": 53,
     "metadata": {},
     "output_type": "execute_result"
    }
   ],
   "source": [
    "data_collator = DataCollatorForTokenClassification(tokenizer=tokenizer)\n",
    "\n",
    "args = TrainingArguments(\n",
    "    gradient_accumulation_steps=1,\n",
    "    auto_find_batch_size=False,\n",
    "    per_device_train_batch_size=32,\n",
    "    per_device_eval_batch_size=128,\n",
    "    torch_compile=False,\n",
    "    learning_rate=3e-4,\n",
    "    max_steps=15_000,\n",
    "    lr_scheduler_type=\"cosine\",\n",
    "    eval_strategy=\"epoch\",\n",
    "    save_strategy=\"epoch\",\n",
    "    logging_steps=50,\n",
    "    logging_first_step=True,\n",
    "    warmup_steps=500,\n",
    "    weight_decay=0.01,\n",
    "    bf16=True,\n",
    "    output_dir=\"./distilled_model\",\n",
    "    max_grad_norm=5,\n",
    "    metric_for_best_model=\"f1\",\n",
    "    load_best_model_at_end=True,\n",
    ")\n",
    "\n",
    "trainer = DistilTrainer(\n",
    "    teacher_model=model,\n",
    "    student_model=student_model,\n",
    "    temperature=6,\n",
    "    lambda_param=0.7,\n",
    "    args=args,\n",
    "    data_collator=data_collator,\n",
    "    train_dataset=tokenized_dataset_train,\n",
    "    eval_dataset=tokenized_dataset_val,\n",
    "    compute_metrics=f1,\n",
    ")\n",
    "\n",
    "trainer.train()"
   ]
  },
  {
   "cell_type": "code",
   "execution_count": 54,
   "id": "db401acc",
   "metadata": {},
   "outputs": [
    {
     "data": {
      "text/html": [
       "\n",
       "    <div>\n",
       "      \n",
       "      <progress value='27' max='27' style='width:300px; height:20px; vertical-align: middle;'></progress>\n",
       "      [27/27 00:08]\n",
       "    </div>\n",
       "    "
      ],
      "text/plain": [
       "<IPython.core.display.HTML object>"
      ]
     },
     "metadata": {},
     "output_type": "display_data"
    },
    {
     "data": {
      "text/plain": [
       "{'eval_loss': 38.551422119140625,\n",
       " 'eval_f1': 0.7327578690382771,\n",
       " 'eval_runtime': 9.5932,\n",
       " 'eval_samples_per_second': 359.943,\n",
       " 'eval_steps_per_second': 2.814,\n",
       " 'epoch': 34.16856492027335}"
      ]
     },
     "execution_count": 54,
     "metadata": {},
     "output_type": "execute_result"
    }
   ],
   "source": [
    "trainer.evaluate(eval_dataset=tokenized_dataset_test)"
   ]
  },
  {
   "cell_type": "markdown",
   "id": "b159870d-4dc7-4e60-89b2-bf99c48b8ee9",
   "metadata": {},
   "source": [
    "# Задания на выбор\n",
    "\n",
    "Как вы понимаете, есть еще довольно много разных способов уменьшить обученную модель. В этой секции вам предлагается реализовать разные техники на выбор. За каждую из них можно получить разное количество балов в зависимости от сложности. Успешность реализации будет оцениваться как по коду, так и по качеству на тестовой выборке. Все баллы за это дз, которые вы наберете сверх 10, будут считаться бонусными.   \n",
    "В задании 4 вы обучали модель с ограничением числа параметров в 20М. При реализации техник из этой секции придерживайтесь такого же ограничение. Это позволит честно сравнивать методы между собой и делать правильные выводы. Напишите в отчете обо всем, что вы попробовали.\n",
    "\n",
    "* __Шеринг весов (2 балла).__ В модификации BERT [ALBERT](https://arxiv.org/pdf/1909.11942.pdf) помимо факторизации эмбеддингов предлагается шерить веса между слоями. То есть разные слои используют одни и те же веса. Такая техника эвивалентна применению одного и того же слоя несколько раз. Она позволяет в несколько раз уменьшить число параметров и не сильно потерять в качестве.\n",
    "* __Факторизация промежуточных слоев (2 балла).__ Если можно факторизовать матрицу эмбеддингов, то и все остальное тоже можно. Для факторизации слоев существует много разных подходов и выбрать какой-то один сложно. Вы можете вдохновляться [этим списком](https://lechnowak.com/posts/neural-network-low-rank-factorization-techniques/), найти в интернете что-то другое или придумать метод самостоятельно. В любом случае в отчете обоснуйте, почему вы решили сделать так как сделали.\n",
    "* __Приближение промежуточных слоев (2 балла).__ Мы обсуждали, что помимо приближения выходов модели ученика к выходам модели учителя, можно приближать выходы промежуточных слоев. В [этой работе](https://www.researchgate.net/publication/375758425_Knowledge_Distillation_Scheme_for_Named_Entity_Recognition_Model_Based_on_BERT) подробно написано, как это можно сделать.\n",
    "* __Прунинг (4 балла).__ В методе [SparseGPT](https://arxiv.org/abs/2301.00774) предлагается подход, удаляющий веса модели один раз после обучения. При этом оказывается возможным удалить до половины всех весов без потери в качестве. Математика, стоящаяя за техникой, довольно сложная, однако общий подход простой – будем удалять веса в каждом слое по отдельности, при удалении части весов слоя, остальные веса будут перенастраиваться так, чтобы общий выход слоя не изменился.\n",
    "* __Удаление голов (6 баллов).__ В данный момент мы используем все головы внимания, но ряд исследований показывает, что большинство из них можно выбросить без потери качества. В этой [статье](https://arxiv.org/pdf/1905.09418.pdf) предлагается подход, который добавляет гейты к механизму внимания, которые регулируют, какие головы участвуют в слое, а какие – нет. В процессе обучения гейты настраиваются так, чтобы большинство голов не использовалась. В конце обучения неиспользуемые головы можно удалить. За это задание дается много баллов, потому что в методе довольно сложная математика и подход плохо заводится. Если вы решитесь потратить на него свои силы, то в случае неудачи мы дадим промежуточные баллы, опираясь на отчет.   \n",
    "__Совет:__ во время обучения внимательно следите за поведением гейтов. Если вы все сделали правильно, то они должны зануляться. Однако зануляются они не всегда сразу, им надо дать время и обучать модель подольше."
   ]
  },
  {
   "cell_type": "code",
   "execution_count": null,
   "id": "b009cfaa",
   "metadata": {},
   "outputs": [
    {
     "name": "stdout",
     "output_type": "stream",
     "text": [
      "Число параметров: 19959225\n"
     ]
    }
   ],
   "source": [
    "# weight sharing - training with embedding factorizations works awfully bad!\n",
    "from torch import nn\n",
    "\n",
    "weight_sharing_config = BertConfig(\n",
    "    vocab_size=model.config.vocab_size,\n",
    "    hidden_size=552,\n",
    "    num_hidden_layers=12,\n",
    "    num_attention_heads=8,\n",
    "    intermediate_size=2208,\n",
    "    num_labels=len(label_names),\n",
    ")\n",
    "weight_sharing_model = BertForTokenClassification(weight_sharing_config)\n",
    "\n",
    "layer = weight_sharing_model.bert.encoder.layer[0]\n",
    "weight_sharing_model.bert.encoder.layer = nn.ModuleList([layer for _ in range(12)])\n",
    "\n",
    "print(\"Число параметров:\", sum(p.numel() for p in weight_sharing_model.parameters()))"
   ]
  },
  {
   "cell_type": "code",
   "execution_count": null,
   "id": "644cef5d",
   "metadata": {},
   "outputs": [
    {
     "name": "stderr",
     "output_type": "stream",
     "text": [
      "comet_ml is installed but the Comet API Key is not configured. Please set the `COMET_API_KEY` environment variable to enable Comet logging. Check out the documentation for other ways of configuring it: https://www.comet.com/docs/v2/guides/experiment-management/configure-sdk/#set-the-api-key\n",
      "max_steps is given, it will override any value given in num_train_epochs\n"
     ]
    },
    {
     "data": {
      "text/html": [
       "\n",
       "    <div>\n",
       "      \n",
       "      <progress value='15000' max='15000' style='width:300px; height:20px; vertical-align: middle;'></progress>\n",
       "      [15000/15000 41:54, Epoch 34/35]\n",
       "    </div>\n",
       "    <table border=\"1\" class=\"dataframe\">\n",
       "  <thead>\n",
       " <tr style=\"text-align: left;\">\n",
       "      <th>Epoch</th>\n",
       "      <th>Training Loss</th>\n",
       "      <th>Validation Loss</th>\n",
       "      <th>F1</th>\n",
       "    </tr>\n",
       "  </thead>\n",
       "  <tbody>\n",
       "    <tr>\n",
       "      <td>1</td>\n",
       "      <td>124.833100</td>\n",
       "      <td>144.435425</td>\n",
       "      <td>0.055291</td>\n",
       "    </tr>\n",
       "    <tr>\n",
       "      <td>2</td>\n",
       "      <td>81.566800</td>\n",
       "      <td>98.556602</td>\n",
       "      <td>0.234211</td>\n",
       "    </tr>\n",
       "    <tr>\n",
       "      <td>3</td>\n",
       "      <td>63.743900</td>\n",
       "      <td>76.515282</td>\n",
       "      <td>0.366243</td>\n",
       "    </tr>\n",
       "    <tr>\n",
       "      <td>4</td>\n",
       "      <td>48.524800</td>\n",
       "      <td>66.062767</td>\n",
       "      <td>0.486871</td>\n",
       "    </tr>\n",
       "    <tr>\n",
       "      <td>5</td>\n",
       "      <td>42.427000</td>\n",
       "      <td>58.565804</td>\n",
       "      <td>0.527373</td>\n",
       "    </tr>\n",
       "    <tr>\n",
       "      <td>6</td>\n",
       "      <td>36.168700</td>\n",
       "      <td>55.090431</td>\n",
       "      <td>0.581807</td>\n",
       "    </tr>\n",
       "    <tr>\n",
       "      <td>7</td>\n",
       "      <td>37.537800</td>\n",
       "      <td>51.366894</td>\n",
       "      <td>0.592581</td>\n",
       "    </tr>\n",
       "    <tr>\n",
       "      <td>8</td>\n",
       "      <td>27.964700</td>\n",
       "      <td>48.028980</td>\n",
       "      <td>0.619902</td>\n",
       "    </tr>\n",
       "    <tr>\n",
       "      <td>9</td>\n",
       "      <td>25.779900</td>\n",
       "      <td>47.466835</td>\n",
       "      <td>0.622388</td>\n",
       "    </tr>\n",
       "    <tr>\n",
       "      <td>10</td>\n",
       "      <td>20.725500</td>\n",
       "      <td>45.041756</td>\n",
       "      <td>0.652837</td>\n",
       "    </tr>\n",
       "    <tr>\n",
       "      <td>11</td>\n",
       "      <td>22.112500</td>\n",
       "      <td>42.671692</td>\n",
       "      <td>0.670861</td>\n",
       "    </tr>\n",
       "    <tr>\n",
       "      <td>12</td>\n",
       "      <td>19.698500</td>\n",
       "      <td>41.631943</td>\n",
       "      <td>0.671850</td>\n",
       "    </tr>\n",
       "    <tr>\n",
       "      <td>13</td>\n",
       "      <td>19.118200</td>\n",
       "      <td>40.789818</td>\n",
       "      <td>0.692423</td>\n",
       "    </tr>\n",
       "    <tr>\n",
       "      <td>14</td>\n",
       "      <td>17.685300</td>\n",
       "      <td>40.670864</td>\n",
       "      <td>0.696551</td>\n",
       "    </tr>\n",
       "    <tr>\n",
       "      <td>15</td>\n",
       "      <td>16.578700</td>\n",
       "      <td>39.554028</td>\n",
       "      <td>0.701471</td>\n",
       "    </tr>\n",
       "    <tr>\n",
       "      <td>16</td>\n",
       "      <td>14.108200</td>\n",
       "      <td>39.280163</td>\n",
       "      <td>0.697700</td>\n",
       "    </tr>\n",
       "    <tr>\n",
       "      <td>17</td>\n",
       "      <td>15.235100</td>\n",
       "      <td>38.911526</td>\n",
       "      <td>0.712261</td>\n",
       "    </tr>\n",
       "    <tr>\n",
       "      <td>18</td>\n",
       "      <td>12.512900</td>\n",
       "      <td>38.571075</td>\n",
       "      <td>0.719994</td>\n",
       "    </tr>\n",
       "    <tr>\n",
       "      <td>19</td>\n",
       "      <td>14.874200</td>\n",
       "      <td>38.039513</td>\n",
       "      <td>0.711535</td>\n",
       "    </tr>\n",
       "    <tr>\n",
       "      <td>20</td>\n",
       "      <td>11.884100</td>\n",
       "      <td>37.317902</td>\n",
       "      <td>0.724323</td>\n",
       "    </tr>\n",
       "    <tr>\n",
       "      <td>21</td>\n",
       "      <td>12.093600</td>\n",
       "      <td>36.500088</td>\n",
       "      <td>0.727244</td>\n",
       "    </tr>\n",
       "    <tr>\n",
       "      <td>22</td>\n",
       "      <td>11.801500</td>\n",
       "      <td>36.716095</td>\n",
       "      <td>0.727811</td>\n",
       "    </tr>\n",
       "    <tr>\n",
       "      <td>23</td>\n",
       "      <td>11.862300</td>\n",
       "      <td>36.294235</td>\n",
       "      <td>0.727795</td>\n",
       "    </tr>\n",
       "    <tr>\n",
       "      <td>24</td>\n",
       "      <td>10.460900</td>\n",
       "      <td>36.103477</td>\n",
       "      <td>0.738496</td>\n",
       "    </tr>\n",
       "    <tr>\n",
       "      <td>25</td>\n",
       "      <td>12.145100</td>\n",
       "      <td>35.834194</td>\n",
       "      <td>0.733575</td>\n",
       "    </tr>\n",
       "    <tr>\n",
       "      <td>26</td>\n",
       "      <td>9.329800</td>\n",
       "      <td>35.847847</td>\n",
       "      <td>0.734592</td>\n",
       "    </tr>\n",
       "    <tr>\n",
       "      <td>27</td>\n",
       "      <td>10.287300</td>\n",
       "      <td>35.873554</td>\n",
       "      <td>0.736359</td>\n",
       "    </tr>\n",
       "    <tr>\n",
       "      <td>28</td>\n",
       "      <td>9.268700</td>\n",
       "      <td>35.650692</td>\n",
       "      <td>0.734973</td>\n",
       "    </tr>\n",
       "    <tr>\n",
       "      <td>29</td>\n",
       "      <td>10.884300</td>\n",
       "      <td>35.521046</td>\n",
       "      <td>0.736935</td>\n",
       "    </tr>\n",
       "    <tr>\n",
       "      <td>30</td>\n",
       "      <td>10.332600</td>\n",
       "      <td>35.426193</td>\n",
       "      <td>0.737452</td>\n",
       "    </tr>\n",
       "    <tr>\n",
       "      <td>31</td>\n",
       "      <td>9.448700</td>\n",
       "      <td>35.483078</td>\n",
       "      <td>0.736454</td>\n",
       "    </tr>\n",
       "    <tr>\n",
       "      <td>32</td>\n",
       "      <td>9.693900</td>\n",
       "      <td>35.503540</td>\n",
       "      <td>0.734478</td>\n",
       "    </tr>\n",
       "    <tr>\n",
       "      <td>33</td>\n",
       "      <td>8.705800</td>\n",
       "      <td>35.445129</td>\n",
       "      <td>0.737248</td>\n",
       "    </tr>\n",
       "    <tr>\n",
       "      <td>34</td>\n",
       "      <td>9.283700</td>\n",
       "      <td>35.448669</td>\n",
       "      <td>0.737611</td>\n",
       "    </tr>\n",
       "  </tbody>\n",
       "</table><p>"
      ],
      "text/plain": [
       "<IPython.core.display.HTML object>"
      ]
     },
     "metadata": {},
     "output_type": "display_data"
    },
    {
     "data": {
      "text/plain": [
       "TrainOutput(global_step=15000, training_loss=26.165431801350913, metrics={'train_runtime': 2514.8351, 'train_samples_per_second': 190.867, 'train_steps_per_second': 5.965, 'total_flos': 573994338781500.0, 'train_loss': 26.165431801350913, 'epoch': 34.16856492027335})"
      ]
     },
     "execution_count": 91,
     "metadata": {},
     "output_type": "execute_result"
    }
   ],
   "source": [
    "data_collator = DataCollatorForTokenClassification(tokenizer=tokenizer)\n",
    "\n",
    "args = TrainingArguments(\n",
    "    gradient_accumulation_steps=1,\n",
    "    auto_find_batch_size=False,\n",
    "    per_device_train_batch_size=32,\n",
    "    per_device_eval_batch_size=128,\n",
    "    torch_compile=False,\n",
    "    learning_rate=3e-5,\n",
    "    max_steps=15_000,\n",
    "    lr_scheduler_type=\"cosine\",\n",
    "    eval_strategy=\"epoch\",\n",
    "    save_strategy=\"epoch\",\n",
    "    logging_steps=50,\n",
    "    logging_first_step=True,\n",
    "    warmup_steps=500,\n",
    "    weight_decay=0.01,\n",
    "    bf16=True,\n",
    "    output_dir=\"./weight_sharing_model\",\n",
    "    max_grad_norm=5,\n",
    "    metric_for_best_model=\"f1\",\n",
    "    load_best_model_at_end=True,\n",
    "    save_safetensors=False,\n",
    ")\n",
    "\n",
    "trainer = DistilTrainer(\n",
    "    teacher_model=model,\n",
    "    student_model=weight_sharing_model,\n",
    "    temperature=6,\n",
    "    lambda_param=0.7,\n",
    "    args=args,\n",
    "    data_collator=data_collator,\n",
    "    train_dataset=tokenized_dataset_train,\n",
    "    eval_dataset=tokenized_dataset_val,\n",
    "    compute_metrics=f1,\n",
    ")\n",
    "\n",
    "trainer.train()"
   ]
  },
  {
   "cell_type": "code",
   "execution_count": 92,
   "id": "6678c77d",
   "metadata": {},
   "outputs": [
    {
     "data": {
      "text/html": [
       "\n",
       "    <div>\n",
       "      \n",
       "      <progress value='27' max='27' style='width:300px; height:20px; vertical-align: middle;'></progress>\n",
       "      [27/27 00:09]\n",
       "    </div>\n",
       "    "
      ],
      "text/plain": [
       "<IPython.core.display.HTML object>"
      ]
     },
     "metadata": {},
     "output_type": "display_data"
    },
    {
     "data": {
      "text/plain": [
       "{'eval_loss': 42.566070556640625,\n",
       " 'eval_f1': 0.6674538247448765,\n",
       " 'eval_runtime': 10.8059,\n",
       " 'eval_samples_per_second': 319.547,\n",
       " 'eval_steps_per_second': 2.499,\n",
       " 'epoch': 34.16856492027335}"
      ]
     },
     "execution_count": 92,
     "metadata": {},
     "output_type": "execute_result"
    }
   ],
   "source": [
    "trainer.evaluate(eval_dataset=tokenized_dataset_test)"
   ]
  },
  {
   "cell_type": "code",
   "execution_count": 32,
   "id": "0a8190db",
   "metadata": {},
   "outputs": [],
   "source": [
    "# intermediate layer approx\n",
    "\n",
    "from src import DistilInterTrainer"
   ]
  },
  {
   "cell_type": "code",
   "execution_count": 201,
   "id": "91ca4646",
   "metadata": {},
   "outputs": [
    {
     "name": "stdout",
     "output_type": "stream",
     "text": [
      "Число параметров: 19687125\n"
     ]
    }
   ],
   "source": [
    "interlayer_approx_config = BertConfig(\n",
    "    vocab_size=model.config.vocab_size,\n",
    "    hidden_size=372,\n",
    "    num_hidden_layers=model.config.num_hidden_layers // 2,\n",
    "    num_attention_heads=model.config.num_attention_heads,\n",
    "    intermediate_size=1200,\n",
    "    num_labels=len(label_names),\n",
    ")\n",
    "\n",
    "\n",
    "class InterLayerBert(BertForTokenClassification):\n",
    "    def __init__(self, config, teacher_hidn_size: int = 768):\n",
    "        super().__init__(config)\n",
    "        self.config = config\n",
    "        self.hidn_upscale = nn.ModuleList(\n",
    "            [\n",
    "                nn.Linear(config.hidden_size, teacher_hidn_size)\n",
    "                for _ in range(config.num_hidden_layers)\n",
    "            ]\n",
    "        )\n",
    "\n",
    "\n",
    "interlayer_approx_model = InterLayerBert(\n",
    "    interlayer_approx_config, teacher_hidn_size=768\n",
    ")\n",
    "\n",
    "print(\n",
    "    \"Число параметров:\",\n",
    "    sum(p.numel() for p in interlayer_approx_model.parameters())\n",
    "    - sum(p.numel() for p in interlayer_approx_model.hidn_upscale.parameters()),    # these params are purely for loss calculations\n",
    ")"
   ]
  },
  {
   "cell_type": "code",
   "execution_count": null,
   "id": "4b19fb19",
   "metadata": {},
   "outputs": [
    {
     "name": "stderr",
     "output_type": "stream",
     "text": [
      "comet_ml is installed but the Comet API Key is not configured. Please set the `COMET_API_KEY` environment variable to enable Comet logging. Check out the documentation for other ways of configuring it: https://www.comet.com/docs/v2/guides/experiment-management/configure-sdk/#set-the-api-key\n"
     ]
    },
    {
     "name": "stderr",
     "output_type": "stream",
     "text": [
      "max_steps is given, it will override any value given in num_train_epochs\n"
     ]
    },
    {
     "data": {
      "text/html": [
       "\n",
       "    <div>\n",
       "      \n",
       "      <progress value='15000' max='15000' style='width:300px; height:20px; vertical-align: middle;'></progress>\n",
       "      [15000/15000 33:16, Epoch 34/35]\n",
       "    </div>\n",
       "    <table border=\"1\" class=\"dataframe\">\n",
       "  <thead>\n",
       " <tr style=\"text-align: left;\">\n",
       "      <th>Epoch</th>\n",
       "      <th>Training Loss</th>\n",
       "      <th>Validation Loss</th>\n",
       "      <th>F1</th>\n",
       "    </tr>\n",
       "  </thead>\n",
       "  <tbody>\n",
       "    <tr>\n",
       "      <td>1</td>\n",
       "      <td>144.125700</td>\n",
       "      <td>154.632645</td>\n",
       "      <td>0.034062</td>\n",
       "    </tr>\n",
       "    <tr>\n",
       "      <td>2</td>\n",
       "      <td>88.592000</td>\n",
       "      <td>109.674675</td>\n",
       "      <td>0.237467</td>\n",
       "    </tr>\n",
       "    <tr>\n",
       "      <td>3</td>\n",
       "      <td>71.205400</td>\n",
       "      <td>86.432785</td>\n",
       "      <td>0.352439</td>\n",
       "    </tr>\n",
       "    <tr>\n",
       "      <td>4</td>\n",
       "      <td>55.499300</td>\n",
       "      <td>75.955772</td>\n",
       "      <td>0.445298</td>\n",
       "    </tr>\n",
       "    <tr>\n",
       "      <td>5</td>\n",
       "      <td>49.626600</td>\n",
       "      <td>66.811913</td>\n",
       "      <td>0.482609</td>\n",
       "    </tr>\n",
       "    <tr>\n",
       "      <td>6</td>\n",
       "      <td>43.812200</td>\n",
       "      <td>62.161835</td>\n",
       "      <td>0.520404</td>\n",
       "    </tr>\n",
       "    <tr>\n",
       "      <td>7</td>\n",
       "      <td>45.156200</td>\n",
       "      <td>59.746578</td>\n",
       "      <td>0.533967</td>\n",
       "    </tr>\n",
       "    <tr>\n",
       "      <td>8</td>\n",
       "      <td>33.666800</td>\n",
       "      <td>55.520119</td>\n",
       "      <td>0.553528</td>\n",
       "    </tr>\n",
       "    <tr>\n",
       "      <td>9</td>\n",
       "      <td>31.392600</td>\n",
       "      <td>54.560898</td>\n",
       "      <td>0.566750</td>\n",
       "    </tr>\n",
       "    <tr>\n",
       "      <td>10</td>\n",
       "      <td>26.407800</td>\n",
       "      <td>51.151665</td>\n",
       "      <td>0.583378</td>\n",
       "    </tr>\n",
       "    <tr>\n",
       "      <td>11</td>\n",
       "      <td>28.546700</td>\n",
       "      <td>49.547962</td>\n",
       "      <td>0.600908</td>\n",
       "    </tr>\n",
       "    <tr>\n",
       "      <td>12</td>\n",
       "      <td>25.949200</td>\n",
       "      <td>48.787029</td>\n",
       "      <td>0.606260</td>\n",
       "    </tr>\n",
       "    <tr>\n",
       "      <td>13</td>\n",
       "      <td>25.616200</td>\n",
       "      <td>47.906422</td>\n",
       "      <td>0.623434</td>\n",
       "    </tr>\n",
       "    <tr>\n",
       "      <td>14</td>\n",
       "      <td>24.489300</td>\n",
       "      <td>47.796963</td>\n",
       "      <td>0.622933</td>\n",
       "    </tr>\n",
       "    <tr>\n",
       "      <td>15</td>\n",
       "      <td>23.155900</td>\n",
       "      <td>46.474857</td>\n",
       "      <td>0.630677</td>\n",
       "    </tr>\n",
       "    <tr>\n",
       "      <td>16</td>\n",
       "      <td>20.050000</td>\n",
       "      <td>45.769047</td>\n",
       "      <td>0.624223</td>\n",
       "    </tr>\n",
       "    <tr>\n",
       "      <td>17</td>\n",
       "      <td>21.731300</td>\n",
       "      <td>45.424202</td>\n",
       "      <td>0.641878</td>\n",
       "    </tr>\n",
       "    <tr>\n",
       "      <td>18</td>\n",
       "      <td>18.744600</td>\n",
       "      <td>44.627422</td>\n",
       "      <td>0.642742</td>\n",
       "    </tr>\n",
       "    <tr>\n",
       "      <td>19</td>\n",
       "      <td>21.410600</td>\n",
       "      <td>44.232281</td>\n",
       "      <td>0.644364</td>\n",
       "    </tr>\n",
       "    <tr>\n",
       "      <td>20</td>\n",
       "      <td>18.110700</td>\n",
       "      <td>43.652020</td>\n",
       "      <td>0.651399</td>\n",
       "    </tr>\n",
       "    <tr>\n",
       "      <td>21</td>\n",
       "      <td>18.030200</td>\n",
       "      <td>43.542259</td>\n",
       "      <td>0.647790</td>\n",
       "    </tr>\n",
       "    <tr>\n",
       "      <td>22</td>\n",
       "      <td>18.143800</td>\n",
       "      <td>43.264050</td>\n",
       "      <td>0.651332</td>\n",
       "    </tr>\n",
       "    <tr>\n",
       "      <td>23</td>\n",
       "      <td>17.987300</td>\n",
       "      <td>43.187847</td>\n",
       "      <td>0.652905</td>\n",
       "    </tr>\n",
       "    <tr>\n",
       "      <td>24</td>\n",
       "      <td>16.282700</td>\n",
       "      <td>43.133743</td>\n",
       "      <td>0.655068</td>\n",
       "    </tr>\n",
       "    <tr>\n",
       "      <td>25</td>\n",
       "      <td>19.140100</td>\n",
       "      <td>42.409206</td>\n",
       "      <td>0.656458</td>\n",
       "    </tr>\n",
       "    <tr>\n",
       "      <td>26</td>\n",
       "      <td>15.225300</td>\n",
       "      <td>42.562172</td>\n",
       "      <td>0.658816</td>\n",
       "    </tr>\n",
       "    <tr>\n",
       "      <td>27</td>\n",
       "      <td>16.712800</td>\n",
       "      <td>42.803631</td>\n",
       "      <td>0.660509</td>\n",
       "    </tr>\n",
       "    <tr>\n",
       "      <td>28</td>\n",
       "      <td>14.974500</td>\n",
       "      <td>42.398804</td>\n",
       "      <td>0.661924</td>\n",
       "    </tr>\n",
       "    <tr>\n",
       "      <td>29</td>\n",
       "      <td>17.024500</td>\n",
       "      <td>42.448322</td>\n",
       "      <td>0.662693</td>\n",
       "    </tr>\n",
       "    <tr>\n",
       "      <td>30</td>\n",
       "      <td>16.478100</td>\n",
       "      <td>42.355701</td>\n",
       "      <td>0.662488</td>\n",
       "    </tr>\n",
       "    <tr>\n",
       "      <td>31</td>\n",
       "      <td>15.411600</td>\n",
       "      <td>42.282104</td>\n",
       "      <td>0.664395</td>\n",
       "    </tr>\n",
       "    <tr>\n",
       "      <td>32</td>\n",
       "      <td>15.681100</td>\n",
       "      <td>42.349422</td>\n",
       "      <td>0.662074</td>\n",
       "    </tr>\n",
       "    <tr>\n",
       "      <td>33</td>\n",
       "      <td>14.398200</td>\n",
       "      <td>42.326881</td>\n",
       "      <td>0.663620</td>\n",
       "    </tr>\n",
       "    <tr>\n",
       "      <td>34</td>\n",
       "      <td>15.165600</td>\n",
       "      <td>42.322971</td>\n",
       "      <td>0.663774</td>\n",
       "    </tr>\n",
       "  </tbody>\n",
       "</table><p>"
      ],
      "text/plain": [
       "<IPython.core.display.HTML object>"
      ]
     },
     "metadata": {},
     "output_type": "display_data"
    },
    {
     "data": {
      "text/plain": [
       "TrainOutput(global_step=15000, training_loss=33.69489500732422, metrics={'train_runtime': 1997.1911, 'train_samples_per_second': 240.338, 'train_steps_per_second': 7.511, 'total_flos': 1631117882702700.0, 'train_loss': 33.69489500732422, 'epoch': 34.16856492027335})"
      ]
     },
     "execution_count": 202,
     "metadata": {},
     "output_type": "execute_result"
    }
   ],
   "source": [
    "data_collator = DataCollatorForTokenClassification(tokenizer=tokenizer)\n",
    "\n",
    "args = TrainingArguments(\n",
    "    gradient_accumulation_steps=1,\n",
    "    auto_find_batch_size=False,\n",
    "    per_device_train_batch_size=32,\n",
    "    per_device_eval_batch_size=128,\n",
    "    torch_compile=False,\n",
    "    learning_rate=3e-5,\n",
    "    max_steps=15_000,\n",
    "    lr_scheduler_type=\"cosine\",\n",
    "    eval_strategy=\"epoch\",\n",
    "    save_strategy=\"epoch\",\n",
    "    logging_steps=50,\n",
    "    logging_first_step=True,\n",
    "    warmup_steps=500,\n",
    "    weight_decay=0.01,\n",
    "    bf16=True,\n",
    "    output_dir=\"./weight_sharing_model\",\n",
    "    max_grad_norm=5,\n",
    "    metric_for_best_model=\"f1\",\n",
    "    load_best_model_at_end=True,\n",
    "    save_safetensors=False,\n",
    ")\n",
    "\n",
    "trainer = DistilInterTrainer(\n",
    "    teacher_model=model,\n",
    "    student_model=interlayer_approx_model,\n",
    "    temperature=6,\n",
    "    lambda_param=0.7,\n",
    "    args=args,\n",
    "    data_collator=data_collator,\n",
    "    train_dataset=tokenized_dataset_train,\n",
    "    eval_dataset=tokenized_dataset_val,\n",
    "    compute_metrics=f1,\n",
    ")\n",
    "\n",
    "trainer.train()"
   ]
  }
 ],
 "metadata": {
  "kernelspec": {
   "display_name": "Python 3",
   "language": "python",
   "name": "python3"
  },
  "language_info": {
   "codemirror_mode": {
    "name": "ipython",
    "version": 3
   },
   "file_extension": ".py",
   "mimetype": "text/x-python",
   "name": "python",
   "nbconvert_exporter": "python",
   "pygments_lexer": "ipython3",
   "version": "3.10.12"
  }
 },
 "nbformat": 4,
 "nbformat_minor": 5
}
